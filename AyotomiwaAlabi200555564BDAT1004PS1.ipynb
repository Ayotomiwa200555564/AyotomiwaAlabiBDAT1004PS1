{
 "cells": [
  {
   "cell_type": "code",
   "execution_count": null,
   "id": "51623510",
   "metadata": {},
   "outputs": [],
   "source": [
    "//Question1\n",
    "Console.WriteLine(\"Defining the data types of the following:\");\n",
    "int number1 = 5;\n",
    "Console.WriteLine($\"- {number1} is an integer\");\n",
    "\n",
    "double number2 = 5.0;\n",
    "Console.WriteLine(\"- 5.0 is a double\");\n",
    "\n",
    " bool number3 = 5 > 1;\n",
    "Console.WriteLine(\"- 5>1: \"+ number3);\n",
    "Console.WriteLine($\" The expression 5>1 produces a True/False statement,which represents Boolean Expressions\");\n",
    "\n",
    "string number4 = \"5\";\n",
    "Console.WriteLine($\"- {number4} is a string here because of the quotation marks\");\n",
    "\n",
    " int number5 = 5 * 2;\n",
    "Console.WriteLine(\"- 5 * 2 = \" + number5);\n",
    "Console.WriteLine($\" 5 * 2 produces {number5} which indicates its an integer\");\n",
    "\n",
    "Console.WriteLine(\"-'5' * 2 produces an error because C# cannot multiply a string and an integer\");\n",
    "\n",
    "string number7 = \"5\" + \"2\";\n",
    "Console.WriteLine(\"-'5' + '2' = \" + number7);\n",
    "Console.WriteLine($\" '5' + '2'produces {number7} instead of 7, this indicates that the numbers identified as strings\");\n",
    "\n",
    " int number8 = 5 / 2;\n",
    "Console.WriteLine($\"- 5 / 2= { number8} which indicates its an integer\");\n",
    "Console.WriteLine($\" but if I use 5.0 / 2= 2.5, this identifies as a float/double\");\n",
    "\n",
    " int number9 = 5 % 2;\n",
    "Console.WriteLine($\"- 5 % 2 produces {number9} which indicates its an integer\");\n",
    "\n",
    "Console.WriteLine($\"-[5,2,1] is an array \");\n",
    "\n",
    "bool number11 = 5 == 3;\n",
    "Console.WriteLine(\"- 5==3: \" + number11);\n",
    "Console.WriteLine($\" The expression 5==3 produces a True/False statement,which represents Boolean Expressions\");\n",
    "\n",
    " double number12 = Math.PI;\n",
    "Console.WriteLine($\"- Pi= {number12} which indicates its a double\");"
   ]
  },
  {
   "cell_type": "code",
   "execution_count": null,
   "id": "df9d4021",
   "metadata": {},
   "outputs": [],
   "source": [
    "//Question2a\n",
    "string word = \"Supercalifragilisticexpialidocious\";\n",
    "int count = 0;\n",
    "foreach (char c in word)\n",
    "{\n",
    "    if (char.IsLetter(c))\n",
    "    {\n",
    "        count++;\n",
    "    }\n",
    "}\n",
    "Console.WriteLine($\"\\n- 2a. How many letters are in 'Supercalifragilisticexpialidocious'= {count}\");"
   ]
  },
  {
   "cell_type": "code",
   "execution_count": null,
   "id": "58bde668",
   "metadata": {},
   "outputs": [],
   "source": [
    "//question2b\n",
    "\n",
    "bool subString = word.Contains(\"ice\");\n",
    "Console.WriteLine(\"-Is 'ice' is a substring of 'Supercalifragilisticexpialidocious'?: \" + subString);\n",
    "Console.WriteLine(\"- 2b. 'Supercalifragilisticexpialidocious' contains 'ice' as a substring\");"
   ]
  },
  {
   "cell_type": "code",
   "execution_count": null,
   "id": "85fa7973",
   "metadata": {},
   "outputs": [],
   "source": [
    "//question2c\n",
    "//Which of the following words is the longest: Supercalifragilisticexpialidocious, Honorificabilitudinitatibus, or Bababadalgharaghtakamminarronnkonn?\n",
    "string wordA = \"Supercalifragilisticexpialidocious\";\n",
    "string wordB = \"Honorificabilitudinitatibus\";\n",
    "string wordC = \"Bababadalgharaghtakamminarronnkonn\";\n",
    "int countA = wordA.Length; Console.WriteLine($\"- {wordA} has {countA} letters\");\n",
    "int countB = wordB.Length; Console.WriteLine($\"- {wordB} has {countB} letters\");\n",
    "int countC = wordC.Length; Console.WriteLine($\"- {wordC} has {countC} letters\");\n",
    "if ((countA >= countB) && (countA == countB))\n",
    "{\n",
    "    Console.WriteLine($\"{wordA} has same length or more than {wordB}\");\n",
    "}\n",
    "else if ((countB >= countC) && (countB == countC))\n",
    "    Console.WriteLine($\"- {wordB} has same length or more than {wordC}\");\n",
    "else if ((countC >= countA) && (countC == countA))\n",
    "    Console.WriteLine($\"- {wordA} has same length or more than {wordC}\");\n",
    "else\n",
    "{\n",
    "    Console.WriteLine($\"- {wordC} is longer than{wordA} and {wordB}\");\n",
    "}\n",
    "\n",
    "if (countA == countC) \n",
    "{\n",
    "Console.WriteLine($\"- 2c. {wordA} and {wordC} are the longest words\");\n",
    "}"
   ]
  },
  {
   "cell_type": "code",
   "execution_count": null,
   "id": "db31d544",
   "metadata": {},
   "outputs": [],
   "source": [
    "//question2d\n",
    "\n",
    "string[] composers = { \"Berlioz\", \"Borodin\", \"Brian\", \"Bartok\", \"Bellini\", \"Buxtehude\", \"Bernstein\"};\n",
    "Console.WriteLine($\"- 2d. composer:\");\n",
    "foreach (string composer in composers)\n",
    "{ Console.WriteLine(composer); }\n",
    "Array.Sort(composers);\n",
    "Console.WriteLine($\"The composer that comes first in the dictionary is: {composers[0]}\");\n",
    "Console.WriteLine($\"The composer that comes last in the dictionary is: {composers[6]}\");"
   ]
  },
  {
   "cell_type": "code",
   "execution_count": null,
   "id": "0ddf779e",
   "metadata": {},
   "outputs": [],
   "source": [
    "//question3\n",
    "class Area\n",
    "{\n",
    "    public double calculateArea(double a,double b, double c)\n",
    "    {\n",
    "        double s = (a+b+c)/2;\n",
    "        double areaofTriangle = Math.Sqrt(s*(s-a)*(s-b)*(s-c));\n",
    "        return areaofTriangle;\n",
    "    }\n",
    "}"
   ]
  },
  {
   "cell_type": "code",
   "execution_count": null,
   "id": "04284a8e",
   "metadata": {},
   "outputs": [],
   "source": [
    "Area areaofTriangle = new Area();\n",
    "areaofTriangle.calculateArea(2,2,2)"
   ]
  },
  {
   "cell_type": "code",
   "execution_count": null,
   "id": "cd35bfc5",
   "metadata": {},
   "outputs": [],
   "source": [
    "//question4\n",
    "int[] array = { 25, 47, 42, 56, 32 };\n",
    "string even = \"\";\n",
    "string odd = \"\";\n",
    "foreach (int i in array)\n",
    "{\n",
    "    int remainder = i % 2;\n",
    "    if (remainder == 0)\n",
    "    {\n",
    "        even = even + \" \" + Convert.ToString(i);\n",
    "    }\n",
    "    else\n",
    "    {\n",
    "        odd = odd + \" \" + Convert.ToString(i);\n",
    "    }\n",
    "}\n",
    "Console.WriteLine($\"\\n- 4. the even elements are:{even}\");\n",
    "Console.WriteLine($\"- the odd elements are:{odd}\");"
   ]
  },
  {
   "cell_type": "code",
   "execution_count": null,
   "id": "85455acc",
   "metadata": {},
   "outputs": [],
   "source": [
    "//Question 5a: C#\n",
    "class rectangle\n",
    " {\n",
    "     public bool Inside(double x, double y, double x1, double y1, double x2, double y2)\n",
    "     {\n",
    "         \n",
    "         if (x>=x1 && x<=x2 && y>=y1 && y<=y2)\n",
    "         {\n",
    "             Console.WriteLine(\"the point ({0},{1}) lies in the rectangle\",x,y);\n",
    "             return true;\n",
    "\n",
    "         }\n",
    "         else\n",
    "         {\n",
    "             \n",
    "             Console.WriteLine(\"the point ({0},{1}) does not lies in the rectangle\",x,y);\n",
    "             return false;\n",
    "\n",
    "         }\n",
    "         }\n",
    "}"
   ]
  },
  {
   "cell_type": "code",
   "execution_count": null,
   "id": "1897a320",
   "metadata": {},
   "outputs": [],
   "source": [
    "//question 5b\n",
    "   rectangle points = new rectangle();\n",
    "   points.Inside(1,1,0.3,0.5,1.1,0.7)"
   ]
  },
  {
   "cell_type": "code",
   "execution_count": null,
   "id": "2ab0a2ea",
   "metadata": {},
   "outputs": [],
   "source": [
    "points.Inside(1,1,0.5,0.2,1.1,2)"
   ]
  },
  {
   "cell_type": "code",
   "execution_count": null,
   "id": "20a0d671",
   "metadata": {},
   "outputs": [],
   "source": [
    "#Question 6\n",
    "def pig(word):\n",
    "    word = word.lower() #to keep all characters of the word in lowercase\n",
    "    vowels_of_alphabet = 'aeiou'\n",
    "    if word[0] in vowels_of_alphabet: #if the first letter is a vowel,\n",
    "        return word + 'way' #returns 'word'way\n",
    "    else:\n",
    "        return word[1:] + word[0:1] + 'ay'#if the first letter is not a vowel, do this"
   ]
  },
  {
   "cell_type": "code",
   "execution_count": null,
   "id": "f95207f0",
   "metadata": {},
   "outputs": [],
   "source": [
    "#Question 7\n",
    "def num(filename):\n",
    "    file = open(filename)\n",
    "    line = file.read()\n",
    "    type = line.split()\n",
    "    \n",
    "    blood_type = {'A': 0, 'B': 0, 'AB': 0, 'O': 0, 'OO': 0}\n",
    "    for word in type:\n",
    "        if word in blood_type:\n",
    "            blood_type[word]+=1 \n",
    "    for word,count in blood_type.items():\n",
    "            if count == 0:\n",
    "                print(f'There are no patients with the blood type {word}')\n",
    "            elif count ==1:\n",
    "\n",
    "                print(f'There is {count} patient with the blood type {word}')\n",
    "            else:\n",
    "                print(f'There are {count} with the blood type {word}')"
   ]
  },
  {
   "cell_type": "code",
   "execution_count": null,
   "id": "653693b1",
   "metadata": {},
   "outputs": [],
   "source": [
    "#Question 8\n",
    "def file(filename):\n",
    "    infile= open(filename)\n",
    "    data = infile.read() \n",
    "    currency_rates = {} \n",
    "    for line in data:\n",
    "        parts = line.split() \n",
    "        if len(parts) >=3: \n",
    "            currency = parts[0]\n",
    "            rate = float (parts[1]) \n",
    "            currency_name= ''.join(parts[2:]) \n",
    "            currency_rates[currency]=rate \n",
    "            return currency_rates\n",
    "    def curconv(currency,amount,currency_rates):\n",
    "        amount=float(amount) \n",
    "        if currency in currency_rates:\n",
    "            rate = currency_rates[currency]\n",
    "            dollars = amount*rate\n",
    "            return dollars"
   ]
  },
  {
   "cell_type": "code",
   "execution_count": null,
   "id": "3f29aa32",
   "metadata": {},
   "outputs": [],
   "source": [
    "#Question 9\n",
    "print(6 +'a') #causes a TypeError\n",
    "\n",
    "thislist = [1,2,3,4,5,6,7,8,9,10,11]\n",
    "print(thislist[12]) #causes an IndexError\n",
    "\n",
    "import math\n",
    "number=math.sqrt(-1,0) #causes an TypeError\n",
    "\n",
    "print(x) #causes a NameError\n",
    "\n",
    "infile = open('example.txt') #causes FileNotFoundError "
   ]
  },
  {
   "cell_type": "code",
   "execution_count": null,
   "id": "5791f65e",
   "metadata": {},
   "outputs": [],
   "source": [
    "#Question 10\n",
    "def frequencies(word):\n",
    "   letters = 'abcdefghijklmnopqrstuvwxyz' \n",
    "   dictionary = {char:0 for char in letters} \n",
    "   for char in word: \n",
    "       if char in letters:\n",
    "            dictionary[char]+=1 \n",
    "   list =[dictionary[char] for char in letters]  \n",
    "   return list"
   ]
  },
  {
   "cell_type": "code",
   "execution_count": null,
   "id": "7f31d4e6",
   "metadata": {},
   "outputs": [],
   "source": []
  },
  {
   "cell_type": "code",
   "execution_count": null,
   "id": "a0913f35",
   "metadata": {},
   "outputs": [],
   "source": []
  },
  {
   "cell_type": "code",
   "execution_count": null,
   "id": "5164d8e5",
   "metadata": {},
   "outputs": [],
   "source": []
  }
 ],
 "metadata": {
  "kernelspec": {
   "display_name": "Python 3 (ipykernel)",
   "language": "python",
   "name": "python3"
  },
  "language_info": {
   "codemirror_mode": {
    "name": "ipython",
    "version": 3
   },
   "file_extension": ".py",
   "mimetype": "text/x-python",
   "name": "python",
   "nbconvert_exporter": "python",
   "pygments_lexer": "ipython3",
   "version": "3.11.4"
  }
 },
 "nbformat": 4,
 "nbformat_minor": 5
}
